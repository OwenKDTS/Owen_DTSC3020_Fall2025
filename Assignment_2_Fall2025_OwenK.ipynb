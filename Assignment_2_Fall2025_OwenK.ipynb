{
  "nbformat": 4,
  "nbformat_minor": 0,
  "metadata": {
    "colab": {
      "provenance": [],
      "authorship_tag": "ABX9TyPO8lFWF/ew9pb1vQknodvR",
      "include_colab_link": true
    },
    "kernelspec": {
      "name": "python3",
      "display_name": "Python 3"
    },
    "language_info": {
      "name": "python"
    }
  },
  "cells": [
    {
      "cell_type": "markdown",
      "metadata": {
        "id": "view-in-github",
        "colab_type": "text"
      },
      "source": [
        "<a href=\"https://colab.research.google.com/github/OwenKDTS/Owen_DTSC3020_Fall2025/blob/main/Assignment_2_Fall2025_OwenK.ipynb\" target=\"_parent\"><img src=\"https://colab.research.google.com/assets/colab-badge.svg\" alt=\"Open In Colab\"/></a>"
      ]
    },
    {
      "cell_type": "code",
      "execution_count": 5,
      "metadata": {
        "colab": {
          "base_uri": "https://localhost:8080/"
        },
        "id": "Sc5uzY0cXi1z",
        "outputId": "874b48a5-360c-4a37-9d98-71c518e99d19"
      },
      "outputs": [
        {
          "output_type": "stream",
          "name": "stdout",
          "text": [
            "apple\n",
            "banana\n",
            "cherry\n"
          ]
        }
      ],
      "source": [
        "my_fruits = [\"pear\", \"grape\", \"orange\"]\n",
        "print(my_fruits[0])\n",
        "print(my_fruits[1])\n",
        "print(my_fruits[2])"
      ]
    },
    {
      "cell_type": "code",
      "metadata": {
        "colab": {
          "base_uri": "https://localhost:8080/"
        },
        "id": "d885594a",
        "outputId": "cf3d89c1-d10b-4028-88bf-0c3109115361"
      },
      "source": [
        "names = [\"alex\", \"owen\", \"dave\", \"mike\"]\n",
        "names[0] = \"diana\"\n",
        "print(names)"
      ],
      "execution_count": 6,
      "outputs": [
        {
          "output_type": "stream",
          "name": "stdout",
          "text": [
            "['diana', 'owen', 'dave', 'mike']\n"
          ]
        }
      ]
    },
    {
      "cell_type": "code",
      "metadata": {
        "colab": {
          "base_uri": "https://localhost:8080/"
        },
        "id": "f257b2d0",
        "outputId": "92a1f0b5-cd18-4e76-ce01-655464472168"
      },
      "source": [
        "vehicles = [\"car\", \"bus\", \"bike\", \"truck\", \"train\"]\n",
        "vehicles.append(\"motorcycle\")\n",
        "print(vehicles)"
      ],
      "execution_count": 17,
      "outputs": [
        {
          "output_type": "stream",
          "name": "stdout",
          "text": [
            "['car', 'bus', 'bike', 'truck', 'train', 'motorcycle']\n"
          ]
        }
      ]
    },
    {
      "cell_type": "code",
      "metadata": {
        "colab": {
          "base_uri": "https://localhost:8080/"
        },
        "id": "5c04859d",
        "outputId": "163138b4-cc01-4706-d673-004a4ea2e8d0"
      },
      "source": [
        "cities = [\"Denton\", \"Dallas\", \"Austin\", \"Coppell\"]\n",
        "cities.sort()\n",
        "cities.reverse()\n",
        "print(cities)"
      ],
      "execution_count": 10,
      "outputs": [
        {
          "output_type": "stream",
          "name": "stdout",
          "text": [
            "['Denton', 'Dallas', 'Coppell', 'Austin']\n"
          ]
        }
      ]
    },
    {
      "cell_type": "code",
      "metadata": {
        "colab": {
          "base_uri": "https://localhost:8080/"
        },
        "id": "5bc7886d",
        "outputId": "15fe070a-c353-4cdd-b5ad-25ad95f87b7a"
      },
      "source": [
        "animals = [\"dog\", \"cat\", \"rabbit\"]\n",
        "for animal in animals:\n",
        "  print(animal)"
      ],
      "execution_count": 11,
      "outputs": [
        {
          "output_type": "stream",
          "name": "stdout",
          "text": [
            "dog\n",
            "cat\n",
            "rabbit\n"
          ]
        }
      ]
    },
    {
      "cell_type": "code",
      "metadata": {
        "colab": {
          "base_uri": "https://localhost:8080/"
        },
        "id": "914da2aa",
        "outputId": "dff988bd-86cb-4d84-a5b5-30c16872386d"
      },
      "source": [
        "numbers = [1, 2, 3, 4, 5]\n",
        "for number in numbers:\n",
        "  print(number * 2)"
      ],
      "execution_count": 14,
      "outputs": [
        {
          "output_type": "stream",
          "name": "stdout",
          "text": [
            "2\n",
            "4\n",
            "6\n",
            "8\n",
            "10\n"
          ]
        }
      ]
    },
    {
      "cell_type": "code",
      "metadata": {
        "colab": {
          "base_uri": "https://localhost:8080/"
        },
        "id": "f03b3f87",
        "outputId": "5f8cfa74-e54b-4d50-aabf-6819745f5ca9"
      },
      "source": [
        "friends = [\"Jacob\", \"Audra\", \"Gratia\", \"David\", \"Noelle\", \"Mara\"]\n",
        "print(\"First three friends:\", friends[:3])\n",
        "print(\"Last three friends:\", friends[-3:])"
      ],
      "execution_count": 13,
      "outputs": [
        {
          "output_type": "stream",
          "name": "stdout",
          "text": [
            "First three friends: ['Jacob', 'Audra', 'Gratia']\n",
            "Last three friends: ['David', 'Noelle', 'Mara']\n"
          ]
        }
      ]
    },
    {
      "cell_type": "code",
      "metadata": {
        "colab": {
          "base_uri": "https://localhost:8080/"
        },
        "id": "ebcc8a03",
        "outputId": "6bc9cf5d-d071-45a6-d068-74a3cf0a7d3d"
      },
      "source": [
        "numbers = list(range(1, 11))\n",
        "print(numbers)"
      ],
      "execution_count": 15,
      "outputs": [
        {
          "output_type": "stream",
          "name": "stdout",
          "text": [
            "[1, 2, 3, 4, 5, 6, 7, 8, 9, 10]\n"
          ]
        }
      ]
    },
    {
      "cell_type": "code",
      "metadata": {
        "colab": {
          "base_uri": "https://localhost:8080/"
        },
        "id": "2d6b9127",
        "outputId": "ce115664-5b68-426c-bf68-1dc3b1ab327d"
      },
      "source": [
        "squares = [number**2 for number in range(1, 6)]\n",
        "print(squares)"
      ],
      "execution_count": 16,
      "outputs": [
        {
          "output_type": "stream",
          "name": "stdout",
          "text": [
            "[1, 4, 9, 16, 25]\n"
          ]
        }
      ]
    }
  ]
}