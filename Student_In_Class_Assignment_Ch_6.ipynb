{
 "cells": [
  {
   "cell_type": "markdown",
   "metadata": {
    "id": "p337feJZG6g0"
   },
   "source": [
    "### ✅ Final Class Exercise: Library Borrowing (using key-value)\n",
    "You are given a dictionary that shows how many books each student has borrowed. Write a Python program to:\n",
    "1.  Print the names of students who borrowed more than 2 books.\n",
    "2. calculate the total number of borrowed books.\n"
   ]
  },
  {
   "cell_type": "code",
   "execution_count": 13,
   "metadata": {
    "id": "OibWnbqOG_cX"
   },
   "outputs": [
    {
     "name": "stdout",
     "output_type": "stream",
     "text": [
      "students who borrowed more than 2 books:  ['Sara', 'Lina']\n",
      "10\n"
     ]
    }
   ],
   "source": [
    "borrowed_books = {\n",
    "    'Ali': 1,\n",
    "    'Sara': 3,\n",
    "    'Reza': 0,\n",
    "    'Lina': 4,\n",
    "    'Omid': 2\n",
    "}\n",
    "\n",
    "# write your answer here part 1\n",
    "\n",
    "total = [key for key, value in borrowed_books.items() if value > 2]\n",
    "print(\"students who borrowed more than 2 books: \" , total)\n",
    "\n",
    "\n",
    "\n",
    "# write your answer here part 2\n",
    "\n",
    "\n",
    "\n",
    "total = 0\n",
    "\n",
    "for key, value in borrowed_books.items():\n",
    "    total += value\n",
    "\n",
    "print(total)\n",
    "\n",
    "\n"
   ]
  },
  {
   "cell_type": "code",
   "execution_count": null,
   "metadata": {},
   "outputs": [],
   "source": []
  },
  {
   "cell_type": "code",
   "execution_count": null,
   "metadata": {},
   "outputs": [],
   "source": []
  }
 ],
 "metadata": {
  "colab": {
   "provenance": []
  },
  "kernelspec": {
   "display_name": "Python 3 (ipykernel)",
   "language": "python",
   "name": "python3"
  },
  "language_info": {
   "codemirror_mode": {
    "name": "ipython",
    "version": 3
   },
   "file_extension": ".py",
   "mimetype": "text/x-python",
   "name": "python",
   "nbconvert_exporter": "python",
   "pygments_lexer": "ipython3",
   "version": "3.12.5"
  }
 },
 "nbformat": 4,
 "nbformat_minor": 4
}
