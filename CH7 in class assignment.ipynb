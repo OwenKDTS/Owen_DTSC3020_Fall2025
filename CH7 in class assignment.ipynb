{
  "nbformat": 4,
  "nbformat_minor": 0,
  "metadata": {
    "colab": {
      "provenance": [],
      "authorship_tag": "ABX9TyMA6QKUGwxB9dUr5p5MFvlH",
      "include_colab_link": true
    },
    "kernelspec": {
      "name": "python3",
      "display_name": "Python 3"
    },
    "language_info": {
      "name": "python"
    }
  },
  "cells": [
    {
      "cell_type": "markdown",
      "metadata": {
        "id": "view-in-github",
        "colab_type": "text"
      },
      "source": [
        "<a href=\"https://colab.research.google.com/github/OwenKDTS/Owen_DTSC3020_Fall2025/blob/main/CH7%20in%20class%20assignment.ipynb\" target=\"_parent\"><img src=\"https://colab.research.google.com/assets/colab-badge.svg\" alt=\"Open In Colab\"/></a>"
      ]
    },
    {
      "cell_type": "code",
      "execution_count": null,
      "metadata": {
        "id": "zGrRR0c42ohQ"
      },
      "outputs": [],
      "source": [
        "# write your code here\n",
        "dict = {'apple': 1, 'bread': 2.5, 'milk': 5, 'egg': 6}\n",
        "\n",
        "item_total = 0\n",
        "while True:\n",
        "  item = input('Enter item name, if finished, \"pay\": ')\n",
        "  if item == 'pay':\n",
        "    break\n",
        "  elif item in dict:\n",
        "    item_total = item_total + dict[item]\n",
        "    print(f\"added {item}, total: ${item_total}\")\n",
        "  else:\n",
        "    print(\"item not found\")\n",
        "\n",
        "  tax = item_total * 0.08\n",
        "  total = item_total + tax\n",
        "\n",
        "print(f\"Subtotal: ${item_total}\")\n",
        "print(f\"Tax: ${tax}\")\n",
        "print(f\"Total: ${total}\")"
      ]
    }
  ]
}