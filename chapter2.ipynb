{
  "cells": [
    {
      "cell_type": "markdown",
      "metadata": {
        "id": "view-in-github",
        "colab_type": "text"
      },
      "source": [
        "<a href=\"https://colab.research.google.com/github/OwenKDTS/Owen_DTSC3020_Fall2025/blob/main/chapter2.ipynb\" target=\"_parent\"><img src=\"https://colab.research.google.com/assets/colab-badge.svg\" alt=\"Open In Colab\"/></a>"
      ]
    },
    {
      "cell_type": "code",
      "execution_count": null,
      "id": "a183b500-41c4-4a1f-a1ff-b04ad7a80e72",
      "metadata": {
        "id": "a183b500-41c4-4a1f-a1ff-b04ad7a80e72",
        "outputId": "c511faa7-23a2-47bf-fef8-c670889d7d51"
      },
      "outputs": [
        {
          "name": "stdout",
          "output_type": "stream",
          "text": [
            "Ada\n"
          ]
        }
      ],
      "source": [
        "name = \"ada\"\n",
        "print(name.title())\n"
      ]
    },
    {
      "cell_type": "code",
      "execution_count": null,
      "id": "9f1c81e2-7b04-46bb-ba30-6d6ac1a0216f",
      "metadata": {
        "id": "9f1c81e2-7b04-46bb-ba30-6d6ac1a0216f",
        "outputId": "cf14dd44-e99e-4b0c-aa68-84358926c3b1"
      },
      "outputs": [
        {
          "name": "stdout",
          "output_type": "stream",
          "text": [
            "Hello, Ada Love!\n"
          ]
        }
      ],
      "source": [
        "first_name = \"ada\"\n",
        "last_name = \"love\"\n",
        "full_name = f\"{first_name} {last_name}\"\n",
        "message = f\"Hello, {full_name.title()}!\"\n",
        "print(message)"
      ]
    },
    {
      "cell_type": "code",
      "execution_count": null,
      "id": "fe885b8a-1137-4937-90ff-37befb48e4e6",
      "metadata": {
        "id": "fe885b8a-1137-4937-90ff-37befb48e4e6",
        "outputId": "5b0c2a98-229f-4f78-d3d9-4f9b7a4db7fc"
      },
      "outputs": [
        {
          "data": {
            "text/plain": [
              "5"
            ]
          },
          "execution_count": 6,
          "metadata": {},
          "output_type": "execute_result"
        }
      ],
      "source": [
        ">>> 2+3\n",
        "\n"
      ]
    },
    {
      "cell_type": "code",
      "execution_count": null,
      "id": "18723bd6-b2ef-4c6d-8fae-e27f899a651c",
      "metadata": {
        "id": "18723bd6-b2ef-4c6d-8fae-e27f899a651c",
        "outputId": "242c2ba0-52b1-4cb2-97a9-c5edd3883132"
      },
      "outputs": [
        {
          "name": "stdout",
          "output_type": "stream",
          "text": [
            "8\n"
          ]
        }
      ],
      "source": [
        "#underscore all your numbers\n",
        "print(5+3)"
      ]
    },
    {
      "cell_type": "code",
      "execution_count": null,
      "id": "f0adbf2f-e1c3-471a-98eb-f59590afaef4",
      "metadata": {
        "id": "f0adbf2f-e1c3-471a-98eb-f59590afaef4"
      },
      "outputs": [],
      "source": [
        ">>> x, y, z = 0, 0, 0"
      ]
    },
    {
      "cell_type": "code",
      "execution_count": null,
      "id": "18ed5456-4ce4-488e-a982-ea0942431e24",
      "metadata": {
        "id": "18ed5456-4ce4-488e-a982-ea0942431e24",
        "outputId": "87237d0b-bb4d-4f04-e017-d54b09795914"
      },
      "outputs": [
        {
          "name": "stdout",
          "output_type": "stream",
          "text": [
            "hello\n"
          ]
        }
      ],
      "source": [
        "#say hello\n",
        "print(\"hello\")"
      ]
    },
    {
      "cell_type": "code",
      "execution_count": null,
      "id": "a0688d71-519c-4f65-8493-52f24f34dee9",
      "metadata": {
        "id": "a0688d71-519c-4f65-8493-52f24f34dee9",
        "outputId": "9c25ea98-cbe7-4dfb-e71b-9007ac948bdc"
      },
      "outputs": [
        {
          "name": "stdout",
          "output_type": "stream",
          "text": [
            "The Zen of Python, by Tim Peters\n",
            "\n",
            "Beautiful is better than ugly.\n",
            "Explicit is better than implicit.\n",
            "Simple is better than complex.\n",
            "Complex is better than complicated.\n",
            "Flat is better than nested.\n",
            "Sparse is better than dense.\n",
            "Readability counts.\n",
            "Special cases aren't special enough to break the rules.\n",
            "Although practicality beats purity.\n",
            "Errors should never pass silently.\n",
            "Unless explicitly silenced.\n",
            "In the face of ambiguity, refuse the temptation to guess.\n",
            "There should be one-- and preferably only one --obvious way to do it.\n",
            "Although that way may not be obvious at first unless you're Dutch.\n",
            "Now is better than never.\n",
            "Although never is often better than *right* now.\n",
            "If the implementation is hard to explain, it's a bad idea.\n",
            "If the implementation is easy to explain, it may be a good idea.\n",
            "Namespaces are one honking great idea -- let's do more of those!\n"
          ]
        }
      ],
      "source": [
        ">>> import this\n"
      ]
    },
    {
      "cell_type": "code",
      "execution_count": null,
      "id": "6b449352-f08c-4b65-a706-4d189925c77d",
      "metadata": {
        "id": "6b449352-f08c-4b65-a706-4d189925c77d"
      },
      "outputs": [],
      "source": []
    }
  ],
  "metadata": {
    "kernelspec": {
      "display_name": "Python 3 (ipykernel)",
      "language": "python",
      "name": "python3"
    },
    "language_info": {
      "codemirror_mode": {
        "name": "ipython",
        "version": 3
      },
      "file_extension": ".py",
      "mimetype": "text/x-python",
      "name": "python",
      "nbconvert_exporter": "python",
      "pygments_lexer": "ipython3",
      "version": "3.12.5"
    },
    "colab": {
      "provenance": [],
      "include_colab_link": true
    }
  },
  "nbformat": 4,
  "nbformat_minor": 5
}